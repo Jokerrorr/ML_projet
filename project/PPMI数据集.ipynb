{
 "cells": [
  {
   "cell_type": "markdown",
   "metadata": {},
   "source": [
    "# 加载数据集\n"
   ]
  },
  {
   "cell_type": "code",
   "execution_count": 30,
   "metadata": {},
   "outputs": [],
   "source": [
    "from scipy.io import loadmat\n",
    "import numpy as np\n",
    "\n",
    "file_path = 'dataset/PPMI.mat'\n",
    "\n",
    "labels=['PD', 'NC']\n",
    "\n",
    "label_mapping = {\n",
    "    \"PD\": 0,\n",
    "    \"NC\": 1\n",
    "}\n",
    "\n",
    "\n",
    "# 使用loadmat函数读取.mat文件\n",
    "data = loadmat(file_path)"
   ]
  },
  {
   "cell_type": "markdown",
   "metadata": {},
   "source": [
    "# data格式\n",
    "data={  \n",
    "    'PD':array(374, 294),  \n",
    "    'NC':array(169, 294)   \n",
    "}\n",
    "\n"
   ]
  },
  {
   "cell_type": "code",
   "execution_count": null,
   "metadata": {},
   "outputs": [],
   "source": [
    "from sklearn.preprocessing import StandardScaler\n",
    "import seaborn as sns\n",
    "import matplotlib.pyplot as plt\n",
    "import numpy as np\n",
    "import pandas as pd\n",
    "\n",
    "scaler = StandardScaler()\n",
    "\n",
    "pd1 = scaler.fit_transform(data['PD'])\n",
    "nc = scaler.fit_transform(data['NC'])\n",
    "\n",
    "all_labels = np.concatenate((np.zeros(pd1.shape[0]), np.ones(nc.shape[0])))\n",
    "\n",
    "data_combined = np.vstack((pd1, nc))\n",
    "\n",
    "df = pd.DataFrame(data_combined, columns=[i for i in range(294)])\n",
    "\n",
    "data_combined.shape\n"
   ]
  },
  {
   "cell_type": "markdown",
   "metadata": {},
   "source": [
    "# 分为训练和验证"
   ]
  },
  {
   "cell_type": "code",
   "execution_count": 32,
   "metadata": {},
   "outputs": [],
   "source": [
    "from sklearn.model_selection import train_test_split\n",
    "from sklearn.decomposition import PCA\n",
    "\n",
    "X_train, X_val, y_train, y_val = train_test_split(data_combined, all_labels, test_size=0.2, random_state=42)\n",
    "\n",
    "# 创建 PCA 对象，设置目标维度\n",
    "pca = PCA(n_components=34)\n",
    "\n",
    "# 拟合 PCA 并转换训练集\n",
    "X_train = pca.fit_transform(X_train)\n",
    "\n",
    "# 仅转换验证集\n",
    "X_val = pca.transform(X_val)"
   ]
  }
 ],
 "metadata": {
  "kernelspec": {
   "display_name": "pytorch-gpu",
   "language": "python",
   "name": "python3"
  },
  "language_info": {
   "codemirror_mode": {
    "name": "ipython",
    "version": 3
   },
   "file_extension": ".py",
   "mimetype": "text/x-python",
   "name": "python",
   "nbconvert_exporter": "python",
   "pygments_lexer": "ipython3",
   "version": "3.12.3"
  }
 },
 "nbformat": 4,
 "nbformat_minor": 2
}

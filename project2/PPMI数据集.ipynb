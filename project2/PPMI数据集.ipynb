{
 "cells": [
  {
   "cell_type": "markdown",
   "metadata": {},
   "source": [
    "# 数据集预处理\n"
   ]
  },
  {
   "cell_type": "code",
   "execution_count": 1,
   "metadata": {},
   "outputs": [],
   "source": [
    "from scipy.io import loadmat\n",
    "import numpy as np\n",
    "\n",
    "file_path = 'dataset/PPMI.mat'\n",
    "\n",
    "labels=['PD', 'NC']\n",
    "\n",
    "label_mapping = {\n",
    "    \"PD\": 0,\n",
    "    \"NC\": 1\n",
    "}\n",
    "\n",
    "\n",
    "# 使用loadmat函数读取.mat文件\n",
    "data = loadmat(file_path)"
   ]
  },
  {
   "cell_type": "markdown",
   "metadata": {},
   "source": [
    "## data格式\n",
    "data={  \n",
    "    'PD':array(374, 294),  \n",
    "    'NC':array(169, 294)   \n",
    "}\n",
    "\n"
   ]
  },
  {
   "cell_type": "code",
   "execution_count": null,
   "metadata": {},
   "outputs": [],
   "source": [
    "from sklearn.preprocessing import MinMaxScaler\n",
    "import seaborn as sns\n",
    "import matplotlib.pyplot as plt\n",
    "import numpy as np\n",
    "import pandas as pd\n",
    "\n",
    "pd1 = data['PD']\n",
    "nc = data['NC']\n",
    "\n",
    "all_labels = np.concatenate((np.zeros(pd1.shape[0]), np.ones(nc.shape[0])))\n",
    "\n",
    "data_combined = np.vstack((pd1, nc))\n",
    "\n",
    "df = pd.DataFrame(data_combined, columns=[i for i in range(294)])\n",
    "\n",
    "data_combined.shape\n"
   ]
  },
  {
   "cell_type": "markdown",
   "metadata": {},
   "source": [
    "## 归一化"
   ]
  },
  {
   "cell_type": "code",
   "execution_count": 3,
   "metadata": {},
   "outputs": [],
   "source": [
    "data_combined = MinMaxScaler().fit_transform(data_combined)"
   ]
  },
  {
   "cell_type": "markdown",
   "metadata": {},
   "source": [
    "## autoencoder"
   ]
  },
  {
   "cell_type": "code",
   "execution_count": null,
   "metadata": {},
   "outputs": [],
   "source": [
    "data_array = np.array(data_combined)\n",
    "\n",
    "from keras.layers import Input, Dense, Conv1D, MaxPooling1D, UpSampling1D\n",
    "from keras.models import Model\n",
    "from keras.optimizers import Adam\n",
    "import tensorflow as tf\n",
    "\n",
    "tf.random.set_seed(0)\n",
    "\n",
    "class_num = data_array.shape[1]\n",
    "class_num_reduce = int(class_num / 2)\n",
    "# class_num_reduce= 5\n",
    "\n",
    "# 定义自编码器结构\n",
    "input_layer = Input(shape=(class_num,))\n",
    "encoded = Dense(class_num_reduce*4, activation='relu')(input_layer)  # 编码层\n",
    "encoded = Dense(class_num_reduce*2, activation='relu')(encoded)  # 编码层\n",
    "encoded = Dense(class_num_reduce, activation='relu')(encoded)  # 编码层\n",
    "\n",
    "decoded = Dense(class_num_reduce*2, activation='relu')(encoded)  # 解码层\n",
    "decoded = Dense(class_num_reduce*4, activation='relu')(decoded)  # 解码层\n",
    "decoded = Dense(class_num, activation='relu')(decoded)  # 解码层\n",
    "\n",
    "# 创建自编码器模型\n",
    "autoencoder = Model(input_layer, decoded)\n",
    "\n",
    "# 编译模型\n",
    "autoencoder.compile(optimizer='adam', loss='mean_squared_error')\n",
    "autoencoder.summary()\n",
    "# 训练模型，只传递特征数据\n",
    "autoencoder.fit(data_array, data_array, epochs=200, batch_size=256, shuffle=True)\n",
    "\n",
    "\n",
    "# 使用编码器进行降维\n",
    "encoder = Model(input_layer, encoded)\n",
    "data_reduce = encoder.predict(data_array)  # 降维后的数据\n",
    "\n",
    "# 将降维后的数据与标签一起使用\n",
    "data_reduce = np.column_stack((data_reduce, all_labels))\n",
    "print(\"合并后的数据形状:\", data_reduce.shape)"
   ]
  },
  {
   "cell_type": "markdown",
   "metadata": {},
   "source": [
    "\n",
    "## 分为训练和验证"
   ]
  },
  {
   "cell_type": "code",
   "execution_count": 5,
   "metadata": {},
   "outputs": [],
   "source": [
    "from sklearn.model_selection import train_test_split\n",
    "\n",
    "X_train, X_val, y_train, y_val = train_test_split(data_reduce[:,:-1], data_reduce[:,-1], test_size=0.2, random_state=42)"
   ]
  },
  {
   "cell_type": "markdown",
   "metadata": {},
   "source": [
    "# 模型\n"
   ]
  },
  {
   "cell_type": "markdown",
   "metadata": {},
   "source": [
    "## SVM"
   ]
  },
  {
   "cell_type": "code",
   "execution_count": null,
   "metadata": {},
   "outputs": [],
   "source": [
    "from sklearn.svm import SVC\n",
    "from sklearn.metrics import accuracy_score\n",
    "\n",
    "model = SVC(kernel='linear')\n",
    "\n",
    "# 训练模型\n",
    "model.fit(X_train, y_train)\n",
    "\n",
    "# 预测\n",
    "y_pred = model.predict(X_val)\n",
    "\n",
    "# 计算准确率\n",
    "accuracy = accuracy_score(y_val, y_pred)\n",
    "print(f'valid accuracy: {accuracy}')\n",
    "\n",
    "accuracy = accuracy_score(model.predict(X_train), y_train)\n",
    "print(f'train accuracy: {accuracy}')"
   ]
  },
  {
   "cell_type": "markdown",
   "metadata": {},
   "source": [
    "## 卷积"
   ]
  },
  {
   "cell_type": "code",
   "execution_count": 7,
   "metadata": {},
   "outputs": [],
   "source": [
    "import numpy as np\n",
    "\n",
    "X_train1 = np.expand_dims(X_train, axis=-1)\n",
    "X_val1 = np.expand_dims(X_val, axis=-1)\n"
   ]
  },
  {
   "cell_type": "code",
   "execution_count": null,
   "metadata": {},
   "outputs": [],
   "source": [
    "import tensorflow as tf\n",
    "from tensorflow.keras import layers, models\n",
    "\n",
    "tf.random.set_seed(777)\n",
    "\n",
    "# 定义输入层\n",
    "inputs = layers.Input(shape=(X_train1.shape[1], 1))\n",
    "\n",
    "# 添加一维卷积层\n",
    "x = layers.Conv1D(filters=64, kernel_size=3)(inputs)\n",
    "x = layers.ReLU()(x)\n",
    "x = layers.MaxPooling1D(pool_size=2)(x)\n",
    "x = layers.Dropout(0.5)(x)\n",
    "\n",
    "# 展平层\n",
    "x = layers.Flatten()(x)\n",
    "\n",
    "# 全连接层\n",
    "x = layers.Dense(32, activation='relu')(x)\n",
    "outputs_forword = layers.Dense(16, activation='relu')(x)\n",
    "outputs = layers.Dense(5, activation='relu')(outputs_forword)\n",
    "\n",
    "# 创建模型\n",
    "model = models.Model(inputs=inputs, outputs=outputs)\n",
    "\n",
    "# 编译模型\n",
    "model.compile(optimizer='adam', loss='sparse_categorical_crossentropy', metrics=['accuracy'])\n",
    "# 训练模型\n",
    "history=model.fit(X_train1, y_train, epochs=50, batch_size=256, validation_data=(X_val1, y_val))\n",
    "predictions = model.predict(X_val1)"
   ]
  },
  {
   "cell_type": "markdown",
   "metadata": {},
   "source": [
    "### 绘图"
   ]
  },
  {
   "cell_type": "code",
   "execution_count": null,
   "metadata": {},
   "outputs": [],
   "source": [
    "# 绘制训练和验证的损失和准确率曲线\n",
    "plt.plot(history.history['loss'], label='Training Loss')\n",
    "plt.plot(history.history['val_loss'], label='Validation Loss')\n",
    "plt.xlabel('Epoch')\n",
    "plt.ylabel('Loss')\n",
    "plt.legend()\n",
    "plt.show()\n",
    "\n",
    "plt.plot(history.history['accuracy'], label='Training Accuracy')\n",
    "plt.plot(history.history['val_accuracy'], label='Validation Accuracy')\n",
    "plt.xlabel('Epoch')\n",
    "plt.ylabel('Accuracy')\n",
    "plt.legend()\n",
    "plt.show()"
   ]
  },
  {
   "cell_type": "markdown",
   "metadata": {},
   "source": [
    "## 卷积的分类器换成svm(CNN+SVM)"
   ]
  },
  {
   "cell_type": "code",
   "execution_count": null,
   "metadata": {},
   "outputs": [],
   "source": [
    "model_forword = Model(inputs=inputs, outputs=outputs_forword)\n",
    "# model_forword\n",
    "X_train_forword = model_forword.predict(X_train1)\n",
    "X_val_forword = model_forword.predict(X_val1)\n",
    "# SVM\n",
    "from sklearn.svm import SVC\n",
    "from sklearn.metrics import accuracy_score\n",
    "\n",
    "svm = SVC(kernel='linear')\n",
    "\n",
    "# 训练模型\n",
    "svm.fit(X_train_forword, y_train)\n",
    "\n",
    "# 预测\n",
    "y_pred = svm.predict(X_val_forword)\n",
    "y_pred_train = svm.predict(X_train_forword)\n",
    "\n",
    "# 计算准确率\n",
    "accuracy = accuracy_score(y_val, y_pred)\n",
    "print(f'valid accuracy: {accuracy}')\n",
    "accuracy = accuracy_score(y_train, y_pred_train)\n",
    "print(f'train accuracy: {accuracy}')\n"
   ]
  },
  {
   "cell_type": "markdown",
   "metadata": {},
   "source": [
    "## 用随机森林对X_train和X_val进行分类"
   ]
  },
  {
   "cell_type": "code",
   "execution_count": null,
   "metadata": {},
   "outputs": [],
   "source": [
    "# 使用RandomForestClassifier\n",
    "from sklearn.ensemble import RandomForestClassifier\n",
    "from sklearn.metrics import accuracy_score\n",
    "\n",
    "rf = RandomForestClassifier(n_estimators=100, random_state=42)\n",
    "\n",
    "# 训练模型\n",
    "rf.fit(X_train_forword, y_train)\n",
    "\n",
    "# 预测\n",
    "y_pred = rf.predict(X_val_forword)\n",
    "y_pred_train = rf.predict(X_train_forword)\n",
    "# 计算准确率\n",
    "accuracy = accuracy_score(y_val, y_pred)\n",
    "print(f'valid accuracy: {accuracy}')\n",
    "accuracy = accuracy_score(y_train, y_pred_train)\n",
    "print(f'train accuracy: {accuracy}')"
   ]
  },
  {
   "cell_type": "markdown",
   "metadata": {},
   "source": [
    "## 卷积的分类器换成随机森林\n"
   ]
  },
  {
   "cell_type": "code",
   "execution_count": null,
   "metadata": {},
   "outputs": [],
   "source": [
    "# 使用RandomForestClassifier\n",
    "from sklearn.ensemble import RandomForestClassifier\n",
    "from sklearn.metrics import accuracy_score\n",
    "\n",
    "rf = RandomForestClassifier(n_estimators=100, random_state=42)\n",
    "\n",
    "# 训练模型\n",
    "rf.fit(X_train_forword, y_train)\n",
    "\n",
    "# 预测\n",
    "y_pred = rf.predict(X_val_forword)\n",
    "y_pred_train = rf.predict(X_train_forword)\n",
    "# 计算准确率\n",
    "accuracy = accuracy_score(y_val, y_pred)\n",
    "print(f'valid accuracy: {accuracy}')\n",
    "accuracy = accuracy_score(y_train, y_pred_train)\n",
    "print(f'train accuracy: {accuracy}')\n"
   ]
  }
 ],
 "metadata": {
  "kernelspec": {
   "display_name": "tensorflow",
   "language": "python",
   "name": "python3"
  },
  "language_info": {
   "codemirror_mode": {
    "name": "ipython",
    "version": 3
   },
   "file_extension": ".py",
   "mimetype": "text/x-python",
   "name": "python",
   "nbconvert_exporter": "python",
   "pygments_lexer": "ipython3",
   "version": "3.9.19"
  }
 },
 "nbformat": 4,
 "nbformat_minor": 2
}
